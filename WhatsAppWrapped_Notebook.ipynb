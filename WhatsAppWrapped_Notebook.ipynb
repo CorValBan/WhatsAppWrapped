{
 "cells": [
  {
   "cell_type": "markdown",
   "id": "90ee5f95-2093-4af5-ba3c-2c95af02fae5",
   "metadata": {
    "tags": []
   },
   "source": [
    "# Add File Name Here"
   ]
  },
  {
   "cell_type": "code",
   "execution_count": null,
   "id": "4c70dadb-0358-4992-9b00-35290a831b19",
   "metadata": {},
   "outputs": [],
   "source": [
    "nameOfChat = 'NAME_OF_FILE_HERE.txt'"
   ]
  },
  {
   "cell_type": "markdown",
   "id": "272ef060-906d-441c-b4c4-0e9af7038316",
   "metadata": {
    "jp-MarkdownHeadingCollapsed": true,
    "tags": []
   },
   "source": [
    "# Imports"
   ]
  },
  {
   "cell_type": "code",
   "execution_count": null,
   "id": "0b0a269f-4d1b-4fce-9de4-7e0d564aeadb",
   "metadata": {},
   "outputs": [],
   "source": [
    "import sys, re, pandas as pd\n",
    "import csv\n",
    "import matplotlib as mpl\n",
    "import matplotlib.pyplot as plt \n",
    "import seaborn as sns\n",
    "import datetime\n",
    "from wordcloud import WordCloud, STOPWORDS \n",
    "import collections\n",
    "import emojis\n",
    "import math\n",
    "from operator import itemgetter\n",
    "import nltk\n",
    "from nltk.corpus import stopwords\n",
    "from nltk.tokenize import word_tokenize"
   ]
  },
  {
   "cell_type": "markdown",
   "id": "815cd9d6-4a0c-48d2-9185-527fd1c57eae",
   "metadata": {
    "jp-MarkdownHeadingCollapsed": true,
    "tags": []
   },
   "source": [
    "## Settings"
   ]
  },
  {
   "cell_type": "code",
   "execution_count": null,
   "id": "0769eeba-4e83-4eb3-b144-ad24bd83ceae",
   "metadata": {},
   "outputs": [],
   "source": [
    "pd.set_option('display.max_rows', 10)\n",
    "stoplist = nltk.corpus.stopwords.words('english')"
   ]
  },
  {
   "cell_type": "markdown",
   "id": "f620a8ca-356c-47ad-8f2a-46984c1f9a09",
   "metadata": {},
   "source": [
    "Adding the 1,000 most common English words to the stop words list."
   ]
  },
  {
   "cell_type": "code",
   "execution_count": null,
   "id": "9d76e037-8fd2-4685-82f7-626d6fcdf05c",
   "metadata": {},
   "outputs": [],
   "source": [
    "with open(\"1-1000.txt\") as f:\n",
    "    wordlist = []\n",
    "    for line in f:\n",
    "        stripped_line = line.strip()\n",
    "        wordlist.append(stripped_line)"
   ]
  },
  {
   "cell_type": "markdown",
   "id": "dd776791-4e90-4442-8a3b-41f0987aab53",
   "metadata": {
    "jp-MarkdownHeadingCollapsed": true,
    "tags": []
   },
   "source": [
    "# Creating the Initial Dataframe"
   ]
  },
  {
   "cell_type": "markdown",
   "id": "07c04011-5700-41b5-a29d-ded5ec4728f1",
   "metadata": {
    "jp-MarkdownHeadingCollapsed": true,
    "tags": []
   },
   "source": [
    "## Initial Import"
   ]
  },
  {
   "cell_type": "code",
   "execution_count": null,
   "id": "68566eb7-bee7-4754-b888-e30c7de7248d",
   "metadata": {},
   "outputs": [],
   "source": [
    "df = pd.read_csv(\n",
    "    nameOfChat, sep=\"\\n\",header=0, names=[\"message\"], skipinitialspace = True)"
   ]
  },
  {
   "cell_type": "markdown",
   "id": "48a8d2a8-a06a-41dc-a926-a89611fc3795",
   "metadata": {
    "jp-MarkdownHeadingCollapsed": true,
    "tags": []
   },
   "source": [
    "## Turning this into a More Useable Dataframe"
   ]
  },
  {
   "cell_type": "markdown",
   "id": "f66a2b46-3ee4-4dec-a247-bbc48ba6f9dd",
   "metadata": {
    "jp-MarkdownHeadingCollapsed": true,
    "tags": []
   },
   "source": [
    "### Split into timings and message"
   ]
  },
  {
   "cell_type": "code",
   "execution_count": null,
   "id": "6c98802e-aefe-4066-8042-295fb7b5120e",
   "metadata": {},
   "outputs": [],
   "source": [
    "df = df[\"message\"].str.split(\"]\", n = 1, expand = True)"
   ]
  },
  {
   "cell_type": "markdown",
   "id": "3cb67bf8-d47e-45bb-a11b-8d4affdccdec",
   "metadata": {
    "jp-MarkdownHeadingCollapsed": true,
    "tags": []
   },
   "source": [
    "### Processing Dates and Times"
   ]
  },
  {
   "cell_type": "code",
   "execution_count": null,
   "id": "c07c8f28-6711-4dd9-9175-95220fd58039",
   "metadata": {},
   "outputs": [],
   "source": [
    "datesTime = df[0].str.split(\",\", n = 1, expand = True)"
   ]
  },
  {
   "cell_type": "markdown",
   "id": "673d167a-b332-4109-aa83-1c5ff40fc32c",
   "metadata": {
    "jp-MarkdownHeadingCollapsed": true,
    "tags": []
   },
   "source": [
    "#### Processing Dates Only"
   ]
  },
  {
   "cell_type": "markdown",
   "id": "96f0bc1a-621b-47eb-9728-e93b4a1820fd",
   "metadata": {
    "jp-MarkdownHeadingCollapsed": true,
    "tags": []
   },
   "source": [
    "##### Initial Values"
   ]
  },
  {
   "cell_type": "code",
   "execution_count": null,
   "id": "f21470aa-c7a8-4fb8-9ae3-6be70b25d164",
   "metadata": {},
   "outputs": [],
   "source": [
    "datesOnly = datesTime[0].str.split(\"/\", n = 2, expand = True)\n",
    "datesOnly[0] = datesOnly[0].str[1:]\n",
    "datesOnly[0] = datesOnly[0].str.replace('[' ,'',regex = True)\n",
    "datesOnly.rename(columns = {0:'Day', 1:'Month',\n",
    "                              2:'Year'}, inplace = True)\n",
    "datesOnly['FullDate'] = datesOnly['Year'] + datesOnly['Month'] + datesOnly['Day']\n",
    "datesOnly['MonthYear'] = datesOnly['Year']+ datesOnly['Month']"
   ]
  },
  {
   "cell_type": "markdown",
   "id": "f1c3868b-b23b-4875-99bf-fe799e434291",
   "metadata": {
    "jp-MarkdownHeadingCollapsed": true,
    "tags": []
   },
   "source": [
    "##### Days of Week"
   ]
  },
  {
   "cell_type": "code",
   "execution_count": null,
   "id": "62525629-20fe-428a-9c7c-0e0eeade7f26",
   "metadata": {},
   "outputs": [],
   "source": [
    "datesOnly['DayOfWeek'] = pd.to_datetime(datesOnly['FullDate'], format='%Y%m%d', errors='coerce')\n",
    "datesOnly['DayOfWeek'] = datesOnly['DayOfWeek'].dt.dayofweek"
   ]
  },
  {
   "cell_type": "markdown",
   "id": "d5659af3-2a5b-4a57-ba33-d8ff7df27d52",
   "metadata": {
    "jp-MarkdownHeadingCollapsed": true,
    "tags": []
   },
   "source": [
    "#### Processing Times Only"
   ]
  },
  {
   "cell_type": "code",
   "execution_count": null,
   "id": "2a494fb9-4472-4cad-979f-af966a3827fa",
   "metadata": {},
   "outputs": [],
   "source": [
    "timesOnly = datesTime[1].str.split(\":\", n = 2, expand = True)\n",
    "timesOnly['FullTime'] = datesTime[1]\n",
    "timesOnly.rename(columns = {0:'Hour', 1:'Minutes',\n",
    "                              2:'Seconds'}, inplace = True)"
   ]
  },
  {
   "cell_type": "markdown",
   "id": "2b3f87ac-4086-4f83-82be-d0e1c177b774",
   "metadata": {
    "jp-MarkdownHeadingCollapsed": true,
    "tags": []
   },
   "source": [
    "##### Setting Up Hours and Minutes "
   ]
  },
  {
   "cell_type": "markdown",
   "id": "a362f1b9-f2cd-412a-9d24-69a3bcfad824",
   "metadata": {},
   "source": [
    "This should allow easier peak times compared to using seconds as well"
   ]
  },
  {
   "cell_type": "code",
   "execution_count": null,
   "id": "1059de4e-c116-4c4b-9c63-6ed24bad45a5",
   "metadata": {},
   "outputs": [],
   "source": [
    "timesOnly['HourMinute'] = timesOnly['Hour'] + \":\" + timesOnly['Minutes']"
   ]
  },
  {
   "cell_type": "markdown",
   "id": "6edd40a6-75de-4342-8b83-d8b8a22418bb",
   "metadata": {
    "jp-MarkdownHeadingCollapsed": true,
    "tags": []
   },
   "source": [
    "### Processing Message and Sender Information"
   ]
  },
  {
   "cell_type": "code",
   "execution_count": null,
   "id": "67864dee-5f9d-4ff0-ab06-fe657281f372",
   "metadata": {},
   "outputs": [],
   "source": [
    "messageProcessing = df[1].str.split(\":\", n = 1, expand = True)\n",
    "messageProcessing.rename(columns = {0:'Sender', 1:'Message'}, inplace = True)"
   ]
  },
  {
   "cell_type": "markdown",
   "id": "01f8c5ba-030c-42c2-a69a-7e38be895278",
   "metadata": {
    "jp-MarkdownHeadingCollapsed": true,
    "tags": []
   },
   "source": [
    "#### Number of Words Per Message"
   ]
  },
  {
   "cell_type": "code",
   "execution_count": null,
   "id": "b4ab8d27-a2e1-41c0-9d45-562c80f348d5",
   "metadata": {},
   "outputs": [],
   "source": [
    "messageProcessing['NoOfWords'] = messageProcessing['Message'].str.split().str.len()"
   ]
  },
  {
   "cell_type": "markdown",
   "id": "7e5a59bb-256b-44b5-8f35-8b5672cd44fa",
   "metadata": {
    "jp-MarkdownHeadingCollapsed": true,
    "tags": []
   },
   "source": [
    "### Combining These Dataframes"
   ]
  },
  {
   "cell_type": "markdown",
   "id": "38ec09f2-80bb-4a57-af09-bb6973d63ac4",
   "metadata": {
    "jp-MarkdownHeadingCollapsed": true,
    "tags": []
   },
   "source": [
    "#### Initial Combination"
   ]
  },
  {
   "cell_type": "code",
   "execution_count": null,
   "id": "858e4c6d-fe59-49d0-8449-669f29238e04",
   "metadata": {},
   "outputs": [],
   "source": [
    "chatDataOriginal = pd.concat([datesOnly, timesOnly, messageProcessing], axis=1)"
   ]
  },
  {
   "cell_type": "markdown",
   "id": "b2df32fa-419f-413d-9280-f34cd5857f62",
   "metadata": {
    "jp-MarkdownHeadingCollapsed": true,
    "tags": []
   },
   "source": [
    "#### Removing Corrupted Data"
   ]
  },
  {
   "cell_type": "code",
   "execution_count": null,
   "id": "dd778a3f-a617-43eb-8201-a4a2134d4544",
   "metadata": {},
   "outputs": [],
   "source": [
    "chatData = chatDataOriginal.dropna()"
   ]
  },
  {
   "cell_type": "markdown",
   "id": "9f87a393-0880-46fe-a21e-41f94e12746a",
   "metadata": {
    "jp-MarkdownHeadingCollapsed": true,
    "tags": []
   },
   "source": [
    "##### Effect of removing data "
   ]
  },
  {
   "cell_type": "code",
   "execution_count": null,
   "id": "efe18cf3-76c3-4f73-8fec-9808015f9dac",
   "metadata": {},
   "outputs": [],
   "source": [
    "originalLength = len(chatDataOriginal.index)\n",
    "newLength = len(chatData.index)\n",
    "numberRemoved = originalLength - newLength\n",
    "percentageRemoved = (numberRemoved/newLength)*100"
   ]
  },
  {
   "cell_type": "code",
   "execution_count": null,
   "id": "f8d6e399-1c75-4219-993d-692d243fb959",
   "metadata": {},
   "outputs": [],
   "source": [
    "print(str(numberRemoved) + \" items were removed. This suggests that \" + str(percentageRemoved) + \" of the messages may have been edited.\")"
   ]
  },
  {
   "cell_type": "markdown",
   "id": "c33a2881-9efb-42d4-a293-99b55e373a99",
   "metadata": {},
   "source": [
    "Items removed are likely due to messages splitting over multiple lines, for example due to a url containing \"/n\". As such, analysis can continue but it does mean that some of the longer messages have been removed. "
   ]
  },
  {
   "cell_type": "markdown",
   "id": "4494f3d4-c66d-44dc-b877-23b6c4fa97ae",
   "metadata": {
    "jp-MarkdownHeadingCollapsed": true,
    "tags": []
   },
   "source": [
    "# Creating Additional Dataframes and Gathering Info"
   ]
  },
  {
   "cell_type": "markdown",
   "id": "87c0824a-91d1-4390-8dbd-8c2ccd1e82b2",
   "metadata": {
    "jp-MarkdownHeadingCollapsed": true,
    "tags": []
   },
   "source": [
    "#### By Year"
   ]
  },
  {
   "cell_type": "code",
   "execution_count": null,
   "id": "eee2c5f2-ca4c-4506-b364-3d72c5e8e00a",
   "metadata": {},
   "outputs": [],
   "source": [
    "year2021 = chatData.loc[chatData['Year'] == '2021']"
   ]
  },
  {
   "cell_type": "markdown",
   "id": "ed02e164-a012-4f9a-bee7-07ddb8423359",
   "metadata": {
    "jp-MarkdownHeadingCollapsed": true,
    "tags": []
   },
   "source": [
    "#### Active Members in 2021"
   ]
  },
  {
   "cell_type": "code",
   "execution_count": null,
   "id": "090bc3fa-2337-426d-b52b-d5671cb7922c",
   "metadata": {},
   "outputs": [],
   "source": [
    "activeMembers2021 = year2021['Sender'].unique()"
   ]
  },
  {
   "cell_type": "code",
   "execution_count": null,
   "id": "a06f3588-9af3-4d6c-a6f1-89b210f5b3a5",
   "metadata": {},
   "outputs": [],
   "source": [
    "numberOfActiveMembers2021 = len(activeMembers2021)"
   ]
  },
  {
   "cell_type": "markdown",
   "id": "9085f076-0b99-4b96-9d3f-045563c84e8c",
   "metadata": {
    "jp-MarkdownHeadingCollapsed": true,
    "tags": []
   },
   "source": [
    "#### Number of Messages"
   ]
  },
  {
   "cell_type": "code",
   "execution_count": null,
   "id": "c5db8c0b-2a58-40ba-a1cf-e9b9ebd67f6c",
   "metadata": {},
   "outputs": [],
   "source": [
    "totalMessages2021 = len(year2021)"
   ]
  },
  {
   "cell_type": "markdown",
   "id": "362b0c94-bbee-44ee-8a40-e52f3a34f353",
   "metadata": {
    "jp-MarkdownHeadingCollapsed": true,
    "tags": []
   },
   "source": [
    "# Analysis "
   ]
  },
  {
   "cell_type": "markdown",
   "id": "3d14fb67-9f56-4198-b693-7dc7b91d492d",
   "metadata": {
    "jp-MarkdownHeadingCollapsed": true,
    "tags": []
   },
   "source": [
    "## Messages by Number"
   ]
  },
  {
   "cell_type": "code",
   "execution_count": null,
   "id": "098a323c-6a00-40f3-9bfd-02d562c1e476",
   "metadata": {},
   "outputs": [],
   "source": [
    "messagesSentByEachUser2021 = year2021['Sender'].value_counts()\n",
    "namesOfSendersInOrderOfMessages2021 = messagesSentByEachUser2021.index.tolist()"
   ]
  },
  {
   "cell_type": "markdown",
   "id": "27ef7203-9d59-4483-b5c1-86c315879e6e",
   "metadata": {
    "jp-MarkdownHeadingCollapsed": true,
    "tags": []
   },
   "source": [
    "### Making this into a bar chart"
   ]
  },
  {
   "cell_type": "code",
   "execution_count": null,
   "id": "b137cc9e-f22c-4c5d-b8aa-8386e79fcaff",
   "metadata": {},
   "outputs": [],
   "source": [
    "fig, ax1 = plt.subplots(figsize=(12,6))\n",
    "fig.patch.set_facecolor('white')\n",
    "chart = sns.barplot(y = messagesSentByEachUser2021, x = list(range(0, numberOfActiveMembers2021)), ax=ax1)\n",
    "ax1.set_title('Messages Sent by Each Member in 2021')\n",
    "ax1.set_ylabel('Number of Messages')\n",
    "ax1.set_xlabel('Chat Member')\n",
    "chart.set_xticklabels(namesOfSendersInOrderOfMessages2021, rotation=90)\n",
    "fig.savefig('noOfMessagesByMember.png', bbox_inches='tight', dpi=600)"
   ]
  },
  {
   "cell_type": "markdown",
   "id": "23e9ace0-9dd2-48b8-8d8c-b40e472e43df",
   "metadata": {
    "jp-MarkdownHeadingCollapsed": true,
    "tags": []
   },
   "source": [
    "## Messages by Day of Week"
   ]
  },
  {
   "cell_type": "markdown",
   "id": "7961d9ca-66a3-48dc-8bba-87ca07c5b8f0",
   "metadata": {},
   "source": [
    "Significant figure code comes from: https://www.kite.com/python/answers/how-to-round-a-number-to-significant-digits-in-python"
   ]
  },
  {
   "cell_type": "code",
   "execution_count": null,
   "id": "a9da9722-5096-4d45-ac9b-762efbe32da0",
   "metadata": {},
   "outputs": [],
   "source": [
    "daysOfWeek = [\"Monday\", \"Tuesday\", \"Wednesday\", \"Thursday\", \"Friday\", \"Saturday\", \"Sunday\"]\n",
    "\n",
    "messagesSentByEachDay2021 = year2021['DayOfWeek'].value_counts()\n",
    "daysOfWeekInOrderOfMessages2021 = messagesSentByEachDay2021.index.tolist()\n",
    "daysOfWeekInOrderOfMessages2021 = [int(x) for x in daysOfWeekInOrderOfMessages2021]\n",
    "nameOfDaysOfWeekInOrderOfMessages2021 = list(itemgetter(*daysOfWeekInOrderOfMessages2021)(daysOfWeek))\n",
    "\n",
    "nameOfBusiestDay2021 = nameOfDaysOfWeekInOrderOfMessages2021[0]\n",
    "messagesOnBusiestDay2021 = max(messagesSentByEachDay2021)\n",
    "\n",
    "percentageOnBusiestDay2021 = (messagesOnBusiestDay2021/totalMessages2021)*100\n",
    "sigFig = 3\n",
    "percentageOnBusiestDay2021 =  round(percentageOnBusiestDay2021, sigFig - int(math.floor(math.log10(abs(percentageOnBusiestDay2021)))) - 1)"
   ]
  },
  {
   "cell_type": "markdown",
   "id": "3670874b-72e0-45ed-8ffa-fadfade04359",
   "metadata": {
    "tags": []
   },
   "source": [
    "### Making this into a bar chart"
   ]
  },
  {
   "cell_type": "markdown",
   "id": "958ce3e3-9fb6-41a3-ac78-cc84a5ef0406",
   "metadata": {},
   "source": [
    "Creating freqency so in order of days of week (Mon - Sun) as opposed to count list. "
   ]
  },
  {
   "cell_type": "code",
   "execution_count": null,
   "id": "446c71b7-3f06-4939-bdca-d7a1a6343b8e",
   "metadata": {},
   "outputs": [],
   "source": [
    "daysShouldHave = list(range(0,7))\n",
    "messagesSentByEachDaySorted2021 = year2021['DayOfWeek'].value_counts().sort_index()\n",
    "\n",
    "daysDoHave =  messagesSentByEachDaySorted2021.index.tolist()\n",
    "daysDoHave = [int(x) for x in daysDoHave]\n",
    "\n",
    "messagesInDayOrder = messagesSentByEachDaySorted2021.tolist()\n",
    "\n",
    "whatDaysHaveIndex = 0\n",
    "whatDaysNeedIndex = 0\n",
    "actualDayFrequencies = []\n",
    "maxDay = max(daysDoHave)\n",
    "\n",
    "for day in daysShouldHave:\n",
    "    dayShouldBe = daysShouldHave[whatDaysNeedIndex]\n",
    "    \n",
    "    if dayShouldBe <= maxDay:\n",
    "        dayIs = daysDoHave[whatDaysHaveIndex]\n",
    "    else: \n",
    "        dayIs = 0\n",
    "\n",
    "    if dayShouldBe == dayIs:\n",
    "        actualDayFrequencies.append(messagesInDayOrder[whatDaysHaveIndex])\n",
    "        whatDaysHaveIndex += 1\n",
    "        whatDaysNeedIndex += 1\n",
    "    else:\n",
    "        actualDayFrequencies.append(0)\n",
    "        whatDaysNeedIndex += 1"
   ]
  },
  {
   "cell_type": "markdown",
   "id": "537ec3be-1ca0-4c06-9222-bb212017ffd0",
   "metadata": {},
   "source": [
    "Plotting into bar chart"
   ]
  },
  {
   "cell_type": "code",
   "execution_count": null,
   "id": "01d32d82-877f-4988-b72d-2363619968a1",
   "metadata": {},
   "outputs": [],
   "source": [
    "fig, ax1 = plt.subplots(figsize=(12,6))\n",
    "fig.patch.set_facecolor('white')\n",
    "chart = sns.barplot(y = actualDayFrequencies, x = daysShouldHave, ax=ax1)\n",
    "ax1.set_title('Messages by Each Day of the Week 2021')\n",
    "ax1.set_ylabel('Number of Messages')\n",
    "ax1.set_xlabel('Day')\n",
    "chart.set_xticklabels(daysOfWeek, rotation=90)\n",
    "fig.savefig('noOfMessagesByDay.png', bbox_inches='tight', dpi=600)"
   ]
  },
  {
   "cell_type": "markdown",
   "id": "78fbdedf-30c0-48db-a7bf-48ca4b478998",
   "metadata": {
    "jp-MarkdownHeadingCollapsed": true,
    "tags": []
   },
   "source": [
    "## Messages by Month"
   ]
  },
  {
   "cell_type": "code",
   "execution_count": null,
   "id": "a925b7a2-14a6-4d3a-b4f0-323ab17f33b9",
   "metadata": {},
   "outputs": [],
   "source": [
    "monthsOfYear = [\"January\", \"February\", \"March\", \"April\", \"May\", \"June\", \"July\", \"August\", \"September\", \"October\", \"November\", \"December\"]\n",
    "\n",
    "messagesSentByMonth2021 = year2021['Month'].value_counts()\n",
    "        \n",
    "monthInOrderOfMessages2021 = messagesSentByMonth2021.index.tolist()\n",
    "monthInOrderOfMessages2021 = [int(x) for x in monthInOrderOfMessages2021]\n",
    "monthInOrderOfMessages2021[:] = [month - 1 for month in monthInOrderOfMessages2021]\n",
    "\n",
    "nameOfMonthInOrderOfMessages2021 = list(itemgetter(*monthInOrderOfMessages2021)(monthsOfYear))\n",
    "\n",
    "nameOfBusiestMonth2021 = nameOfMonthInOrderOfMessages2021[0]\n",
    "messagesInBusiestMonth2021 = max(messagesSentByMonth2021)\n",
    "\n",
    "percentageInBusiestMonth2021 = (messagesInBusiestMonth2021/totalMessages2021)*100\n",
    "sigFig = 3\n",
    "percentageInBusiestMonth2021 = round(percentageInBusiestMonth2021, sigFig - int(math.floor(math.log10(abs(percentageInBusiestMonth2021)))) - 1)"
   ]
  },
  {
   "cell_type": "markdown",
   "id": "53ab208d-5018-4b93-97ef-f2e7a0581f62",
   "metadata": {},
   "source": [
    "Setting up so can have bar chart in order"
   ]
  },
  {
   "cell_type": "code",
   "execution_count": null,
   "id": "76698bfa-6e8b-4ff5-b23c-a91394d362ed",
   "metadata": {},
   "outputs": [],
   "source": [
    "monthsShouldHave = list(range(0,12))\n",
    "messagesByMonthSorted = year2021['Month'].value_counts().sort_index()\n",
    "\n",
    "monthsDoHave =  messagesByMonthSorted.index.tolist()\n",
    "monthsDoHave = [int(x) for x in monthsDoHave]\n",
    "\n",
    "messagesInTimeOrder = messagesByMonthSorted.tolist()\n",
    "\n",
    "whatMonthsHaveIndex = 0\n",
    "whatMonthsNeedIndex = 0\n",
    "actualMonthFrequencies = []\n",
    "maxMonth = max(monthsDoHave)\n",
    "\n",
    "for month in monthsShouldHave:\n",
    "    monthShouldBe = monthsShouldHave[whatMonthsNeedIndex]\n",
    "\n",
    "    if monthShouldBe < maxMonth:\n",
    "        monthIs = monthsDoHave[whatMonthsHaveIndex] - 1\n",
    "    else: \n",
    "        monthIs = 0\n",
    "\n",
    "    if monthShouldBe == monthIs:\n",
    "        actualMonthFrequencies.append(messagesByMonthSorted[whatMonthsHaveIndex])\n",
    "        whatMonthsHaveIndex += 1\n",
    "        whatMonthsNeedIndex += 1\n",
    "    else:\n",
    "        actualMonthFrequencies.append(0)\n",
    "        whatMonthsNeedIndex += 1"
   ]
  },
  {
   "cell_type": "markdown",
   "id": "06e23fa4-87cd-43a2-b3d3-4339d795fdae",
   "metadata": {},
   "source": [
    "Plotting as bar chart"
   ]
  },
  {
   "cell_type": "code",
   "execution_count": null,
   "id": "51acc0fd-dc14-40e9-9de7-876cc718979a",
   "metadata": {},
   "outputs": [],
   "source": [
    "fig, ax1 = plt.subplots(figsize=(12,6))\n",
    "chart = sns.barplot(y = actualMonthFrequencies, x = monthsShouldHave, ax=ax1)\n",
    "chart.set_xticklabels(monthsOfYear, rotation=90)\n",
    "ax1.set_title('Messages Sent in Each Month')\n",
    "ax1.set_ylabel('Messages')\n",
    "ax1.set_xlabel('Month')\n",
    "fig.savefig('noOfMessagesByMonth.png', bbox_inches='tight', dpi=600)"
   ]
  },
  {
   "cell_type": "markdown",
   "id": "aaf59de0-bc15-46dc-affa-910ac736f5c3",
   "metadata": {
    "jp-MarkdownHeadingCollapsed": true,
    "tags": []
   },
   "source": [
    "## Messages by Hour"
   ]
  },
  {
   "cell_type": "code",
   "execution_count": null,
   "id": "ea36ed35-a52c-41c0-8c59-026d1ac37c43",
   "metadata": {},
   "outputs": [],
   "source": [
    "messagesSentByHour2021 = year2021['Hour'].value_counts()\n",
    "\n",
    "hrsInOrderOfMessagesSent2021 = messagesSentByHour2021.index.tolist()\n",
    "hrsInOrderOfMessagesSent2021 = [int(x) for x in hrsInOrderOfMessagesSent2021]\n",
    "\n",
    "messagesInBusiestHour2021 = max(messagesSentByHour2021)\n",
    "\n",
    "percentageInBusiestHour2021 = (messagesInBusiestHour2021/totalMessages2021)*100\n",
    "sigFig = 3\n",
    "percentageInBusiestHour2021 =  round(percentageInBusiestHour2021, sigFig - int(math.floor(math.log10(abs(percentageInBusiestHour2021)))) - 1)"
   ]
  },
  {
   "cell_type": "markdown",
   "id": "a3ba5796-50f8-4dbd-9d18-7280201d9f9b",
   "metadata": {
    "tags": []
   },
   "source": [
    "### Making this into a bar chart"
   ]
  },
  {
   "cell_type": "markdown",
   "id": "4ea150c0-7729-4474-bca7-fe6924806e4b",
   "metadata": {},
   "source": [
    "Set up"
   ]
  },
  {
   "cell_type": "code",
   "execution_count": null,
   "id": "bc9f2ac0-724d-4fbc-b36e-3398d69bbd42",
   "metadata": {},
   "outputs": [],
   "source": [
    "hrsShouldHave = list(range(0,24))\n",
    "messagesByHrSorted = year2021['Hour'].value_counts().sort_index()\n",
    "\n",
    "hrsDoHave =  messagesByHrSorted.index.tolist()\n",
    "hrsDoHave = [int(x) for x in hrsDoHave]\n",
    "\n",
    "messagesInTimeOrder = messagesByHrSorted.tolist()\n",
    "\n",
    "whatHrsHaveIndex = 0\n",
    "whatHrsNeedIndex = 0\n",
    "actualHrFrequencies = []\n",
    "maxHr = max(hrsDoHave)\n",
    "\n",
    "for hr in hrsShouldHave:\n",
    "    hrShouldBe = hrsShouldHave[whatHrsNeedIndex]\n",
    "    \n",
    "    if hrShouldBe <= maxHr:\n",
    "        hrIs = hrsDoHave[whatHrsHaveIndex]\n",
    "    else: \n",
    "        hrIs = 0\n",
    "              \n",
    "    if hrShouldBe == hrIs:\n",
    "        actualHrFrequencies.append(messagesInTimeOrder[whatHrsHaveIndex])\n",
    "        whatHrsHaveIndex += 1\n",
    "        whatHrsNeedIndex += 1\n",
    "    else:\n",
    "        actualHrFrequencies.append(0)\n",
    "        whatHrsNeedIndex += 1"
   ]
  },
  {
   "cell_type": "markdown",
   "id": "a82d40f6-1fab-4b73-a578-8b3c71b3948a",
   "metadata": {},
   "source": [
    "Plotting"
   ]
  },
  {
   "cell_type": "code",
   "execution_count": null,
   "id": "d192e9fe-230d-4983-911e-df469f703144",
   "metadata": {},
   "outputs": [],
   "source": [
    "fig, ax1 = plt.subplots(figsize=(12,6))\n",
    "chart = sns.barplot(y = actualHrFrequencies, x = hrsShouldHave, ax=ax1)\n",
    "chart.set_xticklabels(hrsShouldHave, rotation=90)\n",
    "ax1.set_title('Messages Sent in Each Hour')\n",
    "ax1.set_ylabel('Number Of Messages')\n",
    "ax1.set_xlabel('Hour')\n",
    "fig.savefig('noOfMessagesByHour.png', bbox_inches='tight', dpi=600)"
   ]
  },
  {
   "cell_type": "markdown",
   "id": "dc983448-9591-489e-96ab-f284f7bc304b",
   "metadata": {
    "jp-MarkdownHeadingCollapsed": true,
    "tags": []
   },
   "source": [
    "## Messages by Day"
   ]
  },
  {
   "cell_type": "code",
   "execution_count": null,
   "id": "29a298f7-6e15-4d20-9dac-12dff8e1c56c",
   "metadata": {},
   "outputs": [],
   "source": [
    "busiestOverallDay = year2021['FullDate'].value_counts().index[0]\n",
    "numberOfMessagesOnBusiestDay = year2021['FullDate'].value_counts()[0]\n",
    "busiestOverallDayNice = str(list(year2021.loc[year2021[\"FullDate\"] == busiestOverallDay].Day)[0]) + \"/\"+ str(list(year2021.loc[year2021[\"FullDate\"] == busiestOverallDay].Month)[0])"
   ]
  },
  {
   "cell_type": "code",
   "execution_count": null,
   "id": "c171ceb2-966f-4db1-974e-dabd19217801",
   "metadata": {},
   "outputs": [],
   "source": [
    "busiestOverallDayNice"
   ]
  },
  {
   "cell_type": "markdown",
   "id": "000706dd-b5bd-473c-8a94-6e237258eda9",
   "metadata": {
    "jp-MarkdownHeadingCollapsed": true,
    "tags": []
   },
   "source": [
    "## Text Analysis"
   ]
  },
  {
   "cell_type": "markdown",
   "id": "a213ffb6-a648-4fc7-a221-0064ad1d58d0",
   "metadata": {
    "jp-MarkdownHeadingCollapsed": true,
    "tags": []
   },
   "source": [
    "### Building a Bag Of Words"
   ]
  },
  {
   "cell_type": "markdown",
   "id": "5c01af5b-1130-4d97-8bef-b310b07e9f9b",
   "metadata": {},
   "source": [
    "Improving stopwords based on what has appeared - gifs/images come from the effect of removeing media"
   ]
  },
  {
   "cell_type": "code",
   "execution_count": null,
   "id": "76a9660e-0f6a-42ae-b19b-553a5993084e",
   "metadata": {},
   "outputs": [],
   "source": [
    "newStopWords = ['omitted', 'image','gif', 'co', 'https', 'www', 'video', '\\u200eimage', 'gif']\n",
    "stoplist.extend(newStopWords)\n",
    "stoplist.extend(wordlist)"
   ]
  },
  {
   "cell_type": "markdown",
   "id": "d330d924-bdec-4e1c-b11b-9f7484b650cc",
   "metadata": {},
   "source": [
    "Building the overall bag of words (called word soup!)"
   ]
  },
  {
   "cell_type": "code",
   "execution_count": null,
   "id": "c2c32077-b1db-4f6a-b55e-2f1d5febca6a",
   "metadata": {},
   "outputs": [],
   "source": [
    "wordSoup = ''\n",
    "for val in year2021.Message:\n",
    "     \n",
    "    # typecaste each val to string\n",
    "    val = str(val)\n",
    " \n",
    "    # split the value\n",
    "    tokens = val.split()\n",
    "     \n",
    "    # Converts each token into lowercase\n",
    "    for i in range(len(tokens)):\n",
    "        tokens[i] = tokens[i].lower()\n",
    "     \n",
    "    wordSoup += \" \".join(tokens)+\" \"\n",
    "\n",
    "wordSoupString = wordSoup\n",
    "wordSoup = word_tokenize(wordSoup)\n",
    "filtered = []\n",
    " \n",
    "for w in wordSoup:\n",
    "    if w not in stoplist:\n",
    "        w = re.sub(r'[^\\w\\s]', '', w)\n",
    "        filtered.append(w)\n",
    "        \n",
    "filtered = filter(lambda a: a != '', filtered)\n",
    "filtered = filter(lambda a: len(a) > 2, filtered)"
   ]
  },
  {
   "cell_type": "code",
   "execution_count": null,
   "id": "29fb27cd-147d-45db-9c30-e2b8ec8233a2",
   "metadata": {},
   "outputs": [],
   "source": [
    "mostCommonWord = collections.Counter(filtered)\n",
    "mostCommonWords = mostCommonWord.most_common()"
   ]
  },
  {
   "cell_type": "markdown",
   "id": "fc27919d-3b4a-4846-b981-450431754db7",
   "metadata": {
    "jp-MarkdownHeadingCollapsed": true,
    "tags": []
   },
   "source": [
    "#### Building a Bag of Words for each member of the chat "
   ]
  },
  {
   "cell_type": "code",
   "execution_count": null,
   "id": "7daa1afd-fad0-4ac7-b4fc-8aa493bf34d8",
   "metadata": {},
   "outputs": [],
   "source": [
    "listOfWordSoups = []\n",
    "listOfFilteredFun = []\n",
    "index = 0\n",
    "while index < numberOfActiveMembers2021:\n",
    "    userWordSoup = ''\n",
    "    for val in year2021.loc[year2021[\"Sender\"] == activeMembers2021[index]].Message:\n",
    "        val = str(val)\n",
    "        tokens = val.split()\n",
    "        for i in range(len(tokens)):\n",
    "            tokens[i] = tokens[i].lower()\n",
    "        \n",
    "        userWordSoup+= \" \".join(tokens)+\" \"\n",
    "    \n",
    "    listOfWordSoups.append(userWordSoup)\n",
    "    userWordSoup = word_tokenize(userWordSoup)\n",
    "    userFiltered = []\n",
    " \n",
    "    for w in userWordSoup:\n",
    "        if w not in stoplist:\n",
    "            w = re.sub(r'[^\\w\\s]', '', w)\n",
    "            userFiltered.append(w)\n",
    "        \n",
    "    userFiltered = filter(lambda a: a != '', userFiltered)\n",
    "    userFiltered = filter(lambda a: len(a) > 2, userFiltered)\n",
    "    \n",
    "    \n",
    "    index += 1\n",
    "    \n",
    "    listOfFilteredFun.append(userFiltered)"
   ]
  },
  {
   "cell_type": "markdown",
   "id": "690c1ba7-66e0-4259-a103-8ae699817ac1",
   "metadata": {},
   "source": [
    "Getting most common words for each user"
   ]
  },
  {
   "cell_type": "code",
   "execution_count": null,
   "id": "f232e3c1-4b72-4075-be84-95546ddafd65",
   "metadata": {},
   "outputs": [],
   "source": [
    "mostCommonWordsByUser = []\n",
    "index = 0\n",
    "while index < numberOfActiveMembers2021:\n",
    "    userMostCommonWord = collections.Counter(listOfFilteredFun[index])\n",
    "    userMostCommonWords = userMostCommonWord.most_common()\n",
    "    mostCommonWordsByUser.append(userMostCommonWords)\n",
    "    index += 1"
   ]
  },
  {
   "cell_type": "markdown",
   "id": "693af8b2-edf8-48ec-b845-4636b8d0a9fd",
   "metadata": {
    "jp-MarkdownHeadingCollapsed": true,
    "tags": []
   },
   "source": [
    "### Word Cloud"
   ]
  },
  {
   "cell_type": "code",
   "execution_count": null,
   "id": "640e8982-49c1-4e72-9126-7170f3eb85b0",
   "metadata": {},
   "outputs": [],
   "source": [
    "stopList = str(stoplist)\n",
    "wordcloud = WordCloud(width = 800, height = 800,\n",
    "                background_color ='white',\n",
    "                stopwords = stoplist,\n",
    "                min_font_size = 10).generate(wordSoupString)\n",
    "\n",
    "# plot the WordCloud image                      \n",
    "fig = plt.figure(figsize = (8, 8), facecolor = None)\n",
    "plt.imshow(wordcloud)\n",
    "plt.axis(\"off\")\n",
    "plt.tight_layout(pad = 0)\n",
    " \n",
    "plt.show()\n",
    "fig.savefig('messageAura.png', bbox_inches='tight', dpi=600)"
   ]
  },
  {
   "cell_type": "markdown",
   "id": "a3bba645-8a84-41a3-a7f2-162a2f60fe7d",
   "metadata": {
    "jp-MarkdownHeadingCollapsed": true,
    "tags": []
   },
   "source": [
    "## Emoji Analysis"
   ]
  },
  {
   "cell_type": "markdown",
   "id": "9bdfca6e-5f05-4fa6-b822-7fe5a9872b65",
   "metadata": {
    "tags": []
   },
   "source": [
    "### Emoji Aura"
   ]
  },
  {
   "cell_type": "markdown",
   "id": "7a942d60-2cde-4775-a388-693265e84983",
   "metadata": {},
   "source": [
    "This is adapted from https://stackoverflow.com/questions/66473771/wordcloud-for-only-emojis\n",
    "Aura used in reference to Spotify Wrapped this year - it's just a word cloud :)"
   ]
  },
  {
   "cell_type": "code",
   "execution_count": null,
   "id": "fb2c4e0f-3a84-4591-8fa1-ab37c5057081",
   "metadata": {},
   "outputs": [],
   "source": [
    "class EmojiCloud:\n",
    "    def __init__(self, font_path='EmojiOneColor.otf'):\n",
    "        self.font_path = font_path\n",
    "        self.word_cloud = self.initialize_wordcloud()\n",
    "        self.emoji_probability = None\n",
    "\n",
    "        \n",
    "    def initialize_wordcloud(self):\n",
    "        return WordCloud(font_path=self.font_path,\n",
    "                               width=2000,\n",
    "                               height=1000,\n",
    "                               background_color='white',\n",
    "                               random_state=42,\n",
    "                               collocations=False)\n",
    "\n",
    "    def generate(self, text):\n",
    "        emoji_frequencies = collections.Counter(emojis.iter(text))\n",
    "        total_count = sum(emoji_frequencies.values())\n",
    "        \n",
    "        self.emoji_probability = {emoji: count/total_count for emoji, count in emoji_frequencies.items()}\n",
    "        wc = self.word_cloud.generate_from_frequencies(emoji_frequencies)\n",
    "        return wc\n",
    "    \n",
    "emoji_cloud = EmojiCloud(font_path='./EmojiOneColor.otf')"
   ]
  },
  {
   "cell_type": "code",
   "execution_count": null,
   "id": "000d329f-0368-4797-9889-c90b60541526",
   "metadata": {},
   "outputs": [],
   "source": [
    "emojiAura = emoji_cloud.generate(wordSoupString)\n",
    "\n",
    "fig, ax1= plt.subplots(figsize=(12,12))\n",
    "fig.patch.set_facecolor('white')\n",
    "plt.imshow(emojiAura)\n",
    "plt.axis('off')\n",
    "fig.savefig('emojiAura.png', bbox_inches='tight', dpi=600)"
   ]
  },
  {
   "cell_type": "markdown",
   "id": "0a7dbb8f-d954-4f7b-bda3-a0582a862476",
   "metadata": {
    "jp-MarkdownHeadingCollapsed": true,
    "tags": []
   },
   "source": [
    "### Emoji Frequencies"
   ]
  },
  {
   "cell_type": "code",
   "execution_count": null,
   "id": "c07ec5ac-d6e8-4ecb-9c7c-9a8b98d6c6d9",
   "metadata": {},
   "outputs": [],
   "source": [
    "emojiFrequencies = collections.Counter(emojis.iter(wordSoupString)).most_common()\n",
    "emojiFrequenciesByUser = []\n",
    "\n",
    "index = 0\n",
    "while index < numberOfActiveMembers2021:\n",
    "    userEmojiFreq = collections.Counter(emojis.iter(listOfWordSoups[index])).most_common()\n",
    "    emojiFrequenciesByUser.append(userEmojiFreq)\n",
    "    index += 1"
   ]
  },
  {
   "cell_type": "markdown",
   "id": "e2b1de25-e9ba-44c8-8b34-45901d8e43a9",
   "metadata": {},
   "source": [
    "Number of emojis used in each message by user. This hasn't been converted into any output and doesn't quite work yet "
   ]
  },
  {
   "cell_type": "code",
   "execution_count": null,
   "id": "856c0dc3-f722-4f75-acf8-92633aecd819",
   "metadata": {},
   "outputs": [],
   "source": [
    "userEmojiProportions = []\n",
    "index = 0\n",
    "\n",
    "while index < numberOfActiveMembers2021:\n",
    "    currentEmojiFreqs = emojiFrequenciesByUser[index]\n",
    "    emojiSum = 0\n",
    "    for emojiVal in currentEmojiFreqs:\n",
    "        emojiSum += emojiVal[1]\n",
    "        \n",
    "    messagesSentByThatUser = len(year2021.loc[year2021[\"Sender\"] == activeMembers2021[index]])\n",
    "    print(activeMembers2021[index])\n",
    "    userEmojiProportions.append(emojiSum/messagesSentByThatUser)\n",
    "    \n",
    "    index +=1"
   ]
  },
  {
   "cell_type": "markdown",
   "id": "da6f11dc-00f8-4c4f-b5ee-51c052913c72",
   "metadata": {
    "jp-MarkdownHeadingCollapsed": true,
    "tags": []
   },
   "source": [
    "## Image Analysis"
   ]
  },
  {
   "cell_type": "markdown",
   "id": "79d41467-d834-48a7-b50b-586a9fb54434",
   "metadata": {},
   "source": [
    "TODO"
   ]
  },
  {
   "cell_type": "markdown",
   "id": "d22d90dc-9be9-49dc-b77e-84ed42e859b5",
   "metadata": {
    "jp-MarkdownHeadingCollapsed": true,
    "tags": []
   },
   "source": [
    "# Wrapped"
   ]
  },
  {
   "cell_type": "markdown",
   "id": "8f053f8d-74ed-4f94-8c52-57f4d0505b84",
   "metadata": {
    "tags": []
   },
   "source": [
    "## Messages by Number"
   ]
  },
  {
   "cell_type": "code",
   "execution_count": null,
   "id": "78d04850-d9a2-446a-9789-2345f6424913",
   "metadata": {},
   "outputs": [],
   "source": [
    "print(\"*** Messages by Number ***\")\n",
    "print(\"This year \" + str(totalMessages2021) + \" messages were sent by \" + str(numberOfActiveMembers2021) + \" chat members\")\n",
    "print(\"The top messenger this year was \" + namesOfSendersInOrderOfMessages2021[0] + \" who sent \" + str(messagesSentByEachUser2021[0]) + \" messages. \\n\")\n",
    "print(\"The full rankings are:\")\n",
    "\n",
    "index = 0\n",
    "for name in namesOfSendersInOrderOfMessages2021:\n",
    "    print(str(index + 1) + \". \" + namesOfSendersInOrderOfMessages2021[index] + \" with \" + str(messagesSentByEachUser2021[index]) + \" messages\")\n",
    "    index += 1\n",
    "\n",
    "plt.figure(figsize = (8, 8), facecolor = None)\n",
    "img = plt.imread('noOfMessagesByMember.png')\n",
    "plt.imshow(img)\n",
    "plt.axis(\"off\")\n",
    "plt.tight_layout(pad = 0)"
   ]
  },
  {
   "cell_type": "markdown",
   "id": "d3fb3b44-94e6-43c7-bb00-94ee698d4153",
   "metadata": {
    "tags": []
   },
   "source": [
    "## Messages by Day of Week"
   ]
  },
  {
   "cell_type": "code",
   "execution_count": null,
   "id": "fd061f9f-516d-4fe1-9708-1c8d6f7925c4",
   "metadata": {},
   "outputs": [],
   "source": [
    "print(\"*** Messages by Day of Week ***\")\n",
    "print(\"You chatted most on \" + nameOfBusiestDay2021 +\"s this year. \")\n",
    "print(str(messagesOnBusiestDay2021) + \" messages were sent on \" + nameOfBusiestDay2021 +\"s. That's \" + str(percentageOnBusiestDay2021) + \"% of the total! \\n\")\n",
    "print(\"The full rankings are:\")\n",
    "\n",
    "index = 0\n",
    "for day in nameOfDaysOfWeekInOrderOfMessages2021:\n",
    "    print(str(index + 1) + \". \" + nameOfDaysOfWeekInOrderOfMessages2021[index] + \" with \" + str(list(messagesSentByEachDay2021)[index]) + \" messages\")\n",
    "    index += 1\n",
    "    \n",
    "plt.figure(figsize = (8, 8), facecolor = None)\n",
    "img = plt.imread('noOfMessagesByDay.png')\n",
    "plt.imshow(img)\n",
    "plt.axis(\"off\")\n",
    "plt.tight_layout(pad = 0)"
   ]
  },
  {
   "cell_type": "markdown",
   "id": "b4539a30-ea5f-465d-92bc-462d8bace354",
   "metadata": {
    "tags": []
   },
   "source": [
    "## Messages by Month"
   ]
  },
  {
   "cell_type": "code",
   "execution_count": null,
   "id": "b2c25708-0e07-406a-ac96-b893916ce11d",
   "metadata": {},
   "outputs": [],
   "source": [
    "print(\"*** Messages by Month ***\")\n",
    "print(\"You chatted most in \" + nameOfBusiestMonth2021 +\" this year. \")\n",
    "print(str(messagesInBusiestMonth2021) + \" messages were sent in \" + nameOfBusiestMonth2021 +\". That's \" + str(percentageInBusiestMonth2021) + \"% of the total! \\n\")\n",
    "print(\"The top months were:\")\n",
    "\n",
    "index = 0\n",
    "if len(nameOfMonthInOrderOfMessages2021) < 5:\n",
    "    maxIndex = len(nameOfMonthInOrderOfMessages2021)\n",
    "else:\n",
    "    maxIndex = 5\n",
    "while index < maxIndex:\n",
    "    print(str(index + 1) + \". \" + nameOfMonthInOrderOfMessages2021[index] + \" with \" + str(list(messagesSentByMonth2021)[index]) + \" messages\")\n",
    "    index += 1\n",
    "    \n",
    "plt.figure(figsize = (8, 8), facecolor = None)\n",
    "img = plt.imread('noOfMessagesByMonth.png')\n",
    "plt.imshow(img)\n",
    "plt.axis(\"off\")\n",
    "plt.tight_layout(pad = 0)"
   ]
  },
  {
   "cell_type": "markdown",
   "id": "278867c5-ce33-4bdd-a082-9e7d29601c64",
   "metadata": {
    "tags": []
   },
   "source": [
    "## Messages by Time of Day"
   ]
  },
  {
   "cell_type": "code",
   "execution_count": null,
   "id": "251429af-8f02-4ea1-baaf-16453912d7db",
   "metadata": {},
   "outputs": [],
   "source": [
    "print(\"You chatted most between \" + str(hrsInOrderOfMessagesSent2021[0]) + \":00 and \" +  str(hrsInOrderOfMessagesSent2021[0] + 1) +\":00 this year. \")\n",
    "print(str(messagesInBusiestHour2021) + \" messages were sent in this hour. That's \" + str(percentageInBusiestHour2021) + \"% of the total! \\n\")\n",
    "print(\"The top 5 hours are:\")\n",
    "\n",
    "index = 0\n",
    "if len(hrsInOrderOfMessagesSent2021) < 5:\n",
    "    maxIndex = len(nameOfMonthInOrderOfMessages2021)\n",
    "else:\n",
    "    maxIndex = 5\n",
    "    \n",
    "while index < maxIndex:\n",
    "    if hrsInOrderOfMessagesSent2021[index] == 23:\n",
    "        nextHr = \"0:00\"\n",
    "    else:\n",
    "        nextHr = str(hrsInOrderOfMessagesSent2021[index] + 1) + \":00\"\n",
    "        \n",
    "    print(str(index + 1) + \". \" + str(hrsInOrderOfMessagesSent2021[index]) + \":00 to \" + nextHr + \" with \" + str(messagesSentByHour2021[index]) + \" messages\")\n",
    "    index += 1\n",
    "\n",
    "plt.figure(figsize = (8, 8), facecolor = None)\n",
    "img = plt.imread('noOfMessagesByHour.png')\n",
    "plt.imshow(img)\n",
    "plt.axis(\"off\")\n",
    "plt.tight_layout(pad = 0)"
   ]
  },
  {
   "cell_type": "markdown",
   "id": "eb3ef8c3-e397-43ce-9f67-b8260a055329",
   "metadata": {
    "tags": []
   },
   "source": [
    "## Messages by Times that Don't Fit Elsewhere"
   ]
  },
  {
   "cell_type": "code",
   "execution_count": null,
   "id": "99b89ed6-7a86-419a-871a-7ae30f2619bd",
   "metadata": {},
   "outputs": [],
   "source": [
    "print(\"The day with the most messages was \" + busiestOverallDayNice + \" when \" + str(numberOfMessagesOnBusiestDay) + \" messages were sent.\")\n"
   ]
  },
  {
   "cell_type": "markdown",
   "id": "af007d9b-b4d4-416c-8c20-a94926bd558f",
   "metadata": {
    "tags": []
   },
   "source": [
    "## Emoji Analysis"
   ]
  },
  {
   "cell_type": "code",
   "execution_count": null,
   "id": "f28782d7-97bd-4e5e-8968-2594a53ad124",
   "metadata": {},
   "outputs": [],
   "source": [
    "print(\"*** Most Frequent Emoji ***\")\n",
    "print(\"The most used emoji was \" + emojiFrequencies[0][0] +\" this year. It was used \" + str(emojiFrequencies[0][1]) + \" times. \\n\")\n",
    "\n",
    "print(\"The full rankings are:\")\n",
    "\n",
    "index = 0\n",
    "if len(emojiFrequencies) < 5:\n",
    "    indexMax = len(emojiFrequencies) - 1\n",
    "    print(indexMax)\n",
    "else:\n",
    "    indexMax = 5\n",
    "\n",
    "while index < indexMax:\n",
    "    print(str(index + 1) + \". \" + emojiFrequencies[index][0] + \" with \" + str(emojiFrequencies[index][1]) + \" usages\")\n",
    "    index += 1\n",
    "\n",
    "print(\"\\n\")\n",
    "\n",
    "index = 0\n",
    "activeMembers2021[index]\n",
    "for user in activeMembers2021:\n",
    "    if len(emojiFrequenciesByUser[index]) != 0:\n",
    "        print(activeMembers2021[index] + \"'s top emoji is \" + emojiFrequenciesByUser[index][0][0] + \" with \" + str(emojiFrequenciesByUser[index][0][1]) + \" uses.\")\n",
    "    else:\n",
    "        print(activeMembers2021[index] + \" didn't use any emojis this year!\")\n",
    "    index += 1\n",
    "\n",
    "print(\"\\nThe chat's emoji aura is:\")\n",
    "plt.figure(figsize = (8, 8), facecolor = None)\n",
    "img = plt.imread('emojiAura.png')\n",
    "plt.imshow(img)\n",
    "plt.axis(\"off\")\n",
    "plt.tight_layout(pad = 0)"
   ]
  },
  {
   "cell_type": "markdown",
   "id": "a3bd9917-30f6-42f8-af46-38bca90cb4ab",
   "metadata": {
    "tags": []
   },
   "source": [
    "## Text Analysis"
   ]
  },
  {
   "cell_type": "code",
   "execution_count": null,
   "id": "02ec4517-b500-47c6-ba39-ddd5853b48ef",
   "metadata": {},
   "outputs": [],
   "source": [
    "print(\"*** How You Message ***\")\n",
    "\n",
    "print(\"After removing 1,000 of the most common words in English this is what's left - these are the words that make your chat, your chat!\")\n",
    "\n",
    "index = 0\n",
    "if len(mostCommonWords) < 5:\n",
    "    indexMax = len(emojiFrequencies) - 1\n",
    "    print(indexMax)\n",
    "else:\n",
    "    indexMax = 5\n",
    "\n",
    "while index < indexMax:\n",
    "    print(str(index + 1) + \". \" + mostCommonWords[index][0] + \" with \" + str(mostCommonWords[index][1]) + \" uses\")\n",
    "    index += 1\n",
    "\n",
    "print(\"\\n\")\n",
    "\n",
    "index = 0\n",
    "for user in activeMembers2021:\n",
    "    if len(mostCommonWordsByUser[index]) != 0:\n",
    "        print(activeMembers2021[index] + \"'s defining word is \" + \"'\" +  mostCommonWordsByUser[index][0][0]  + \"'\")\n",
    "    else:\n",
    "        print(activeMembers2021[index] + \" doesn't have a defining word this year!\")\n",
    "    index += 1\n",
    "\n",
    "print(\"\\nThe chat's message aura is:\")\n",
    "plt.figure(figsize = (8, 8), facecolor = None)\n",
    "img = plt.imread('messageAura.png')\n",
    "plt.imshow(img)\n",
    "plt.axis(\"off\")\n",
    "plt.tight_layout(pad = 0)"
   ]
  },
  {
   "cell_type": "markdown",
   "id": "6a2a7389-8b39-4042-9cdd-2f5a93dac0bb",
   "metadata": {
    "tags": []
   },
   "source": [
    "# Full Wrapped"
   ]
  },
  {
   "cell_type": "code",
   "execution_count": null,
   "id": "1feb4f45-94b0-400e-9a1d-88eeca16665b",
   "metadata": {},
   "outputs": [],
   "source": [
    "print(\"*** Messages by Number ***\")\n",
    "print(\"This year \" + str(totalMessages2021) + \" messages were sent by \" + str(numberOfActiveMembers2021) + \" chat members\")\n",
    "print(\"The top messenger this year was \" + namesOfSendersInOrderOfMessages2021[0] + \" who sent \" + str(messagesSentByEachUser2021[0]) + \" messages. \\n\")\n",
    "print(\"The full rankings are:\")\n",
    "\n",
    "index = 0\n",
    "for name in namesOfSendersInOrderOfMessages2021:\n",
    "    print(str(index + 1) + \". \" + namesOfSendersInOrderOfMessages2021[index] + \" with \" + str(messagesSentByEachUser2021[index]) + \" messages\")\n",
    "    index += 1\n",
    "\n",
    "plt.figure(figsize = (8, 8), facecolor = None)\n",
    "img = plt.imread('noOfMessagesByMember.png')\n",
    "plt.imshow(img)\n",
    "plt.axis(\"off\")\n",
    "plt.tight_layout(pad = 0)\n",
    "plt.show()\n",
    "\n",
    "print(\"*** Messages by Day of Week ***\")\n",
    "print(\"You chatted most on \" + nameOfBusiestDay2021 +\"s this year. \")\n",
    "print(str(messagesOnBusiestDay2021) + \" messages were sent on \" + nameOfBusiestDay2021 +\"s. That's \" + str(percentageOnBusiestDay2021) + \"% of the total! \\n\")\n",
    "print(\"The full rankings are:\")\n",
    "\n",
    "index = 0\n",
    "for day in nameOfDaysOfWeekInOrderOfMessages2021:\n",
    "    print(str(index + 1) + \". \" + nameOfDaysOfWeekInOrderOfMessages2021[index] + \" with \" + str(list(messagesSentByEachDay2021)[index]) + \" messages\")\n",
    "    index += 1\n",
    "    \n",
    "plt.figure(figsize = (8, 8), facecolor = None)\n",
    "img = plt.imread('noOfMessagesByDay.png')\n",
    "plt.imshow(img)\n",
    "plt.axis(\"off\")\n",
    "plt.tight_layout(pad = 0)\n",
    "plt.show()\n",
    "\n",
    "print(\"*** Messages by Month ***\")\n",
    "print(\"You chatted most in \" + nameOfBusiestMonth2021 +\" this year. \")\n",
    "print(str(messagesInBusiestMonth2021) + \" messages were sent in \" + nameOfBusiestMonth2021 +\". That's \" + str(percentageInBusiestMonth2021) + \"% of the total! \\n\")\n",
    "print(\"The top months were:\")\n",
    "\n",
    "index = 0\n",
    "if len(nameOfMonthInOrderOfMessages2021) < 5:\n",
    "    maxIndex = len(nameOfMonthInOrderOfMessages2021)\n",
    "else:\n",
    "    maxIndex = 5\n",
    "while index < maxIndex:\n",
    "    print(str(index + 1) + \". \" + nameOfMonthInOrderOfMessages2021[index] + \" with \" + str(list(messagesSentByMonth2021)[index]) + \" messages\")\n",
    "    index += 1\n",
    "    \n",
    "plt.figure(figsize = (8, 8), facecolor = None)\n",
    "img = plt.imread('noOfMessagesByMonth.png')\n",
    "plt.imshow(img)\n",
    "plt.axis(\"off\")\n",
    "plt.tight_layout(pad = 0)\n",
    "plt.show()\n",
    "\n",
    "print(\"*** Messages by Hour ***\")\n",
    "print(\"You chatted most between \" + str(hrsInOrderOfMessagesSent2021[0]) + \":00 and \" +  str(hrsInOrderOfMessagesSent2021[0] + 1) +\":00 this year. \")\n",
    "print(str(messagesInBusiestHour2021) + \" messages were sent in this hour. That's \" + str(percentageInBusiestHour2021) + \"% of the total! \\n\")\n",
    "print(\"The top 5 hours are:\")\n",
    "\n",
    "index = 0\n",
    "if len(hrsInOrderOfMessagesSent2021) < 5:\n",
    "    maxIndex = len(nameOfMonthInOrderOfMessages2021)\n",
    "else:\n",
    "    maxIndex = 5\n",
    "    \n",
    "while index < maxIndex:\n",
    "    if hrsInOrderOfMessagesSent2021[index] == 23:\n",
    "        nextHr = \"0:00\"\n",
    "    else:\n",
    "        nextHr = str(hrsInOrderOfMessagesSent2021[index] + 1) + \":00\"\n",
    "        \n",
    "    print(str(index + 1) + \". \" + str(hrsInOrderOfMessagesSent2021[index]) + \":00 to \" + nextHr + \" with \" + str(messagesSentByHour2021[index]) + \" messages\")\n",
    "    index += 1\n",
    "\n",
    "plt.figure(figsize = (8, 8), facecolor = None)\n",
    "img = plt.imread('noOfMessagesByHour.png')\n",
    "plt.imshow(img)\n",
    "plt.axis(\"off\")\n",
    "plt.tight_layout(pad = 0)\n",
    "plt.show()\n",
    "\n",
    "print(\"The day with the most messages was \" + busiestOverallDayNice + \" when \" + str(numberOfMessagesOnBusiestDay) + \" messages were sent.\\n\")\n",
    "\n",
    "print(\"*** Most Frequent Emoji ***\")\n",
    "print(\"The most used emoji was \" + emojiFrequencies[0][0] +\" this year. It was used \" + str(emojiFrequencies[0][1]) + \" times. \\n\")\n",
    "\n",
    "print(\"The full rankings are:\")\n",
    "\n",
    "index = 0\n",
    "if len(emojiFrequencies) < 5:\n",
    "    indexMax = len(emojiFrequencies) - 1\n",
    "    print(indexMax)\n",
    "else:\n",
    "    indexMax = 5\n",
    "\n",
    "while index < indexMax:\n",
    "    print(str(index + 1) + \". \" + emojiFrequencies[index][0] + \" with \" + str(emojiFrequencies[index][1]) + \" usages\")\n",
    "    index += 1\n",
    "\n",
    "print(\"\\n\")\n",
    "\n",
    "index = 0\n",
    "activeMembers2021[index]\n",
    "for user in activeMembers2021:\n",
    "    if len(emojiFrequenciesByUser[index]) != 0:\n",
    "        print(activeMembers2021[index] + \"'s top emoji is \" + emojiFrequenciesByUser[index][0][0] + \" with \" + str(emojiFrequenciesByUser[index][0][1]) + \" uses.\")\n",
    "    else:\n",
    "        print(activeMembers2021[index] + \" didn't use any emojis this year!\")\n",
    "    index += 1\n",
    "\n",
    "print(\"\\nThe chat's emoji aura is:\")\n",
    "plt.figure(figsize = (8, 8), facecolor = None)\n",
    "img = plt.imread('emojiAura.png')\n",
    "plt.imshow(img)\n",
    "plt.axis(\"off\")\n",
    "plt.tight_layout(pad = 0)\n",
    "plt.show()\n",
    "\n",
    "print(\"*** How You Message ***\")\n",
    "\n",
    "print(\"After removing 1,000 of the most common words in English this is what's left - these are the words that make your chat, your chat!\")\n",
    "\n",
    "index = 0\n",
    "if len(mostCommonWords) < 5:\n",
    "    indexMax = len(emojiFrequencies) - 1\n",
    "    print(indexMax)\n",
    "else:\n",
    "    indexMax = 5\n",
    "\n",
    "while index < indexMax:\n",
    "    print(str(index + 1) + \". \" + mostCommonWords[index][0] + \" with \" + str(mostCommonWords[index][1]) + \" uses\")\n",
    "    index += 1\n",
    "\n",
    "print(\"\\n\")\n",
    "\n",
    "index = 0\n",
    "for user in activeMembers2021:\n",
    "    if len(mostCommonWordsByUser[index]) != 0:\n",
    "        print(activeMembers2021[index] + \"'s defining word is \" + \"'\" +  mostCommonWordsByUser[index][0][0]  + \"'\")\n",
    "    else:\n",
    "        print(activeMembers2021[index] + \" doesn't have a defining word this year!\")\n",
    "    index += 1\n",
    "\n",
    "print(\"\\nThe chat's message aura is:\")\n",
    "plt.figure(figsize = (8, 8), facecolor = None)\n",
    "img = plt.imread('messageAura.png')\n",
    "plt.imshow(img)\n",
    "plt.axis(\"off\")\n",
    "plt.tight_layout(pad = 0)\n",
    "plt.show()"
   ]
  }
 ],
 "metadata": {
  "kernelspec": {
   "display_name": "Python 3 (ipykernel)",
   "language": "python",
   "name": "python3"
  },
  "language_info": {
   "codemirror_mode": {
    "name": "ipython",
    "version": 3
   },
   "file_extension": ".py",
   "mimetype": "text/x-python",
   "name": "python",
   "nbconvert_exporter": "python",
   "pygments_lexer": "ipython3",
   "version": "3.9.7"
  }
 },
 "nbformat": 4,
 "nbformat_minor": 5
}
